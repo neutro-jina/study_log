{
  "nbformat": 4,
  "nbformat_minor": 0,
  "metadata": {
    "colab": {
      "name": "모두의딥러닝_18장_로이터 뉴스 카테고리 분석하기.ipynb",
      "provenance": [],
      "toc_visible": true,
      "authorship_tag": "ABX9TyO9doGav+V+vydlfYIVaRUT",
      "include_colab_link": true
    },
    "kernelspec": {
      "name": "python3",
      "display_name": "Python 3"
    },
    "language_info": {
      "name": "python"
    },
    "accelerator": "GPU",
    "gpuClass": "standard"
  },
  "cells": [
    {
      "cell_type": "markdown",
      "metadata": {
        "id": "view-in-github",
        "colab_type": "text"
      },
      "source": [
        "<a href=\"https://colab.research.google.com/github/neutro-jina/study_log/blob/main/%EB%AA%A8%EB%91%90%EC%9D%98%EB%94%A5%EB%9F%AC%EB%8B%9D_18%EC%9E%A5_%EB%A1%9C%EC%9D%B4%ED%84%B0_%EB%89%B4%EC%8A%A4_%EC%B9%B4%ED%85%8C%EA%B3%A0%EB%A6%AC_%EB%B6%84%EC%84%9D%ED%95%98%EA%B8%B0.ipynb\" target=\"_parent\"><img src=\"https://colab.research.google.com/assets/colab-badge.svg\" alt=\"Open In Colab\"/></a>"
      ]
    },
    {
      "cell_type": "code",
      "execution_count": 1,
      "metadata": {
        "colab": {
          "base_uri": "https://localhost:8080/",
          "height": 1000
        },
        "id": "dYgXq48i5Kug",
        "outputId": "3716716a-cad4-4b1f-f513-38e292ac5880"
      },
      "outputs": [
        {
          "output_type": "stream",
          "name": "stdout",
          "text": [
            "Downloading data from https://storage.googleapis.com/tensorflow/tf-keras-datasets/reuters.npz\n",
            "2113536/2110848 [==============================] - 0s 0us/step\n",
            "2121728/2110848 [==============================] - 0s 0us/step\n",
            "46 카테고리\n",
            "8982 학습용 뉴스 기사\n",
            "2246 테스트용 뉴스 기사\n",
            "[1, 2, 2, 8, 43, 10, 447, 5, 25, 207, 270, 5, 2, 111, 16, 369, 186, 90, 67, 7, 89, 5, 19, 102, 6, 19, 124, 15, 90, 67, 84, 22, 482, 26, 7, 48, 4, 49, 8, 864, 39, 209, 154, 6, 151, 6, 83, 11, 15, 22, 155, 11, 15, 7, 48, 9, 2, 2, 504, 6, 258, 6, 272, 11, 15, 22, 134, 44, 11, 15, 16, 8, 197, 2, 90, 67, 52, 29, 209, 30, 32, 132, 6, 109, 15, 17, 12]\n",
            "Epoch 1/20\n",
            "90/90 [==============================] - 11s 19ms/step - loss: 2.5777 - accuracy: 0.3498 - val_loss: 2.1698 - val_accuracy: 0.4488\n",
            "Epoch 2/20\n",
            "90/90 [==============================] - 1s 11ms/step - loss: 2.0392 - accuracy: 0.4906 - val_loss: 1.9849 - val_accuracy: 0.5009\n",
            "Epoch 3/20\n",
            "90/90 [==============================] - 1s 11ms/step - loss: 1.9038 - accuracy: 0.5122 - val_loss: 1.7969 - val_accuracy: 0.5454\n",
            "Epoch 4/20\n",
            "90/90 [==============================] - 1s 11ms/step - loss: 1.7316 - accuracy: 0.5533 - val_loss: 1.7229 - val_accuracy: 0.5592\n",
            "Epoch 5/20\n",
            "90/90 [==============================] - 1s 11ms/step - loss: 1.6855 - accuracy: 0.5649 - val_loss: 1.6862 - val_accuracy: 0.5726\n",
            "Epoch 6/20\n",
            "90/90 [==============================] - 1s 11ms/step - loss: 1.6508 - accuracy: 0.5808 - val_loss: 1.6825 - val_accuracy: 0.5717\n",
            "Epoch 7/20\n",
            "90/90 [==============================] - 1s 11ms/step - loss: 1.6133 - accuracy: 0.5893 - val_loss: 1.6465 - val_accuracy: 0.5899\n",
            "Epoch 8/20\n",
            "90/90 [==============================] - 1s 11ms/step - loss: 1.5426 - accuracy: 0.6089 - val_loss: 1.5781 - val_accuracy: 0.6171\n",
            "Epoch 9/20\n",
            "90/90 [==============================] - 1s 11ms/step - loss: 1.4273 - accuracy: 0.6407 - val_loss: 1.4924 - val_accuracy: 0.6180\n",
            "Epoch 10/20\n",
            "90/90 [==============================] - 1s 11ms/step - loss: 1.3266 - accuracy: 0.6628 - val_loss: 1.4328 - val_accuracy: 0.6354\n",
            "Epoch 11/20\n",
            "90/90 [==============================] - 1s 11ms/step - loss: 1.2361 - accuracy: 0.6865 - val_loss: 1.3223 - val_accuracy: 0.6670\n",
            "Epoch 12/20\n",
            "90/90 [==============================] - 1s 11ms/step - loss: 1.1522 - accuracy: 0.7050 - val_loss: 1.2832 - val_accuracy: 0.6719\n",
            "Epoch 13/20\n",
            "90/90 [==============================] - 1s 11ms/step - loss: 1.0941 - accuracy: 0.7242 - val_loss: 1.2433 - val_accuracy: 0.6790\n",
            "Epoch 14/20\n",
            "90/90 [==============================] - 1s 11ms/step - loss: 1.0321 - accuracy: 0.7398 - val_loss: 1.2293 - val_accuracy: 0.6937\n",
            "Epoch 15/20\n",
            "90/90 [==============================] - 1s 11ms/step - loss: 0.9735 - accuracy: 0.7551 - val_loss: 1.1813 - val_accuracy: 0.6999\n",
            "Epoch 16/20\n",
            "90/90 [==============================] - 1s 11ms/step - loss: 0.9305 - accuracy: 0.7629 - val_loss: 1.2192 - val_accuracy: 0.6923\n",
            "Epoch 17/20\n",
            "90/90 [==============================] - 1s 11ms/step - loss: 0.8899 - accuracy: 0.7769 - val_loss: 1.2025 - val_accuracy: 0.7075\n",
            "Epoch 18/20\n",
            "90/90 [==============================] - 1s 11ms/step - loss: 0.8452 - accuracy: 0.7853 - val_loss: 1.1868 - val_accuracy: 0.7150\n",
            "Epoch 19/20\n",
            "90/90 [==============================] - 1s 11ms/step - loss: 0.8083 - accuracy: 0.7977 - val_loss: 1.1899 - val_accuracy: 0.7150\n",
            "Epoch 20/20\n",
            "90/90 [==============================] - 1s 11ms/step - loss: 0.7795 - accuracy: 0.8032 - val_loss: 1.2035 - val_accuracy: 0.7128\n",
            "71/71 [==============================] - 0s 4ms/step - loss: 1.2035 - accuracy: 0.7128\n",
            "\n",
            " Test Accuracy: 0.7128\n"
          ]
        },
        {
          "output_type": "display_data",
          "data": {
            "text/plain": [
              "<Figure size 432x288 with 1 Axes>"
            ],
            "image/png": "[encoded data removed]"
          },
          "metadata": {
            "needs_background": "light"
          }
        }
      ],
      "source": [
        "# 18장. 순환 신경망(RNN)_LSTM을 이용한 로이터 뉴스 카테고리 분류하기\n",
        "\n",
        "# 과거에 입력된 데이터와 나중에 입력된 데이터 사이의 관계를 고려해야 하는 문제를 해결하기 위해 순환 신경망(Recurrent neutral network) 방법이 고안됨\n",
        "# 순환신경망은 여러 개의 데이터가 순서대로 입력되었을 때 앞서 입력받은 데이터를 잠시 기억해 놓는 방법이다. \n",
        "# 그리고 별도의 가중치를 줘서 다음 데이터로 넘어간다. 모든 입력 값에 이 작업을 실행하므로 같은 층 안에서 맴도는 성질때문에 순환 신경망이라 불림\n",
        "# RNN의 결과를 개선하기 위해 LSTM(long short term memory)방법을 함께 사용하는 기법이 현재 널리 사용되고 있다.\n",
        "# LSTM은 한 층 안에서 반복을 많이 해야 하는 rnn의 특성상 기울기 소실 문제가 더 많이 발생하고 이를 해결하기 어렵다는 단점을 보완하였다.\n",
        "#즉, 반복 되기 직전에 다음 층으로 기억된 값을 넘길지 안 넘길지를 관리하는 단게를 하나 더 추가하는 것이다.\n",
        "\n",
        "\n",
        "import numpy\n",
        "import tensorflow as tf\n",
        "import matplotlib.pyplot as plt\n",
        "\n",
        "# 로이터 뉴스 데이터셋 불러오기\n",
        "from keras.datasets import reuters\n",
        "from keras.models import Sequential\n",
        "from tensorflow.keras.models import Sequential\n",
        "from tensorflow.keras.layers import Dense,LSTM,Embedding\n",
        "from keras.layers import Dense, LSTM, Embedding\n",
        "from keras.preprocessing import sequence\n",
        "from keras.utils import np_utils\n",
        "\n",
        "\n",
        "# seed 값 설정\n",
        "seed = 0\n",
        "numpy.random.seed(seed)\n",
        "tf.random.set_seed(3)\n",
        "\n",
        "# 불러온 데이터를 학습셋, 테스트셋으로 나누기\n",
        "(X_train, Y_train), (X_test, Y_test) = reuters.load_data(num_words=1000, test_split=0.2)\n",
        "#num_words=1000의미? 1~1000에 해당하는 빈도의 단어만 선택해서 불러오는 것. \n",
        "\n",
        "\n",
        "# 데이터 확인하기\n",
        "category = numpy.max(Y_train) + 1 #0부터 세기때문에 1을 더해준다.\n",
        "print(category, '카테고리')\n",
        "print(len(X_train), '학습용 뉴스 기사')\n",
        "print(len(X_test), '테스트용 뉴스 기사')\n",
        "print(X_train[0])\n",
        "\n",
        "# 데이터 전처리\n",
        "# 각 기사의 단어 수가 제각각 다르므로 이를 동일하게 맞춰야 한다. 이 때에 데이터 전처리 함수 sequence()를 이용함.\n",
        "# maxlen=100은 단어 수를 100개로 맞추라는 뜻. 기사의 단어 수가 100보다 크면 100개째 단어만 선택하고 나머지는 버린다. 모자란 부분은 0으로.\n",
        "x_train = sequence.pad_sequences(X_train, maxlen=100)\n",
        "x_test = sequence.pad_sequences(X_test, maxlen=100)\n",
        "y_train = np_utils.to_categorical(Y_train)\n",
        "y_test = np_utils.to_categorical(Y_test)\n",
        "\n",
        "# 모델의 설정\n",
        "model = Sequential()\n",
        "model.add(Embedding(1000, 100)) \n",
        "#Embedding(불러올 단어의 총 개수, 기사당 단어 수)층은 데이터전처리를 통해 입력된 값을 받아 다음 층이 알아들을 수 있는 형태로 변환.\n",
        "model.add(LSTM(100, activation='tanh'))\n",
        "# LSTM(기사당 단어 수, 기타 옵션)의 형식으로 적용됨.\n",
        "model.add(Dense(46, activation='softmax'))\n",
        "\n",
        "# 모델의 컴파일\n",
        "model.compile(loss='categorical_crossentropy',\n",
        "            optimizer='adam',\n",
        "            metrics=['accuracy'])\n",
        "\n",
        "# 모델의 실행\n",
        "history = model.fit(x_train, y_train, batch_size=100, epochs=20, validation_data=(x_test, y_test))\n",
        "\n",
        "# 테스트 정확도 출력\n",
        "print(\"\\n Test Accuracy: %.4f\" % (model.evaluate(x_test, y_test)[1]))\n",
        "\n",
        "\n",
        "# 테스트 셋의 오차\n",
        "y_vloss = history.history['val_loss']\n",
        "\n",
        "# 학습셋의 오차\n",
        "y_loss = history.history['loss']\n",
        "\n",
        "# 그래프로 표현\n",
        "x_len = numpy.arange(len(y_loss))\n",
        "plt.plot(x_len, y_vloss, marker='.', c=\"red\", label='Testset_loss')\n",
        "plt.plot(x_len, y_loss, marker='.', c=\"blue\", label='Trainset_loss')\n",
        "\n",
        "# 그래프에 그리드를 주고 레이블을 표시\n",
        "plt.legend(loc='upper right')\n",
        "plt.grid()\n",
        "plt.xlabel('epoch')\n",
        "plt.ylabel('loss')\n",
        "plt.show()"
      ]
    },
    {
      "cell_type": "code",
      "source": [
        ""
      ],
      "metadata": {
        "id": "ZXsoYKmO5Lkv"
      },
      "execution_count": null,
      "outputs": []
    }
  ]
}