{
  "cells": [
    {
      "cell_type": "markdown",
      "metadata": {
        "id": "view-in-github",
        "colab_type": "text"
      },
      "source": [
        "<a href=\"https://colab.research.google.com/github/neutro-jina/study_log/blob/main/CH07_XOR_Deeplearning.ipynb\" target=\"_parent\"><img src=\"https://colab.research.google.com/assets/colab-badge.svg\" alt=\"Open In Colab\"/></a>"
      ]
    },
    {
      "cell_type": "code",
      "execution_count": 1,
      "metadata": {
        "id": "1ltjaYZC8qcn"
      },
      "outputs": [],
      "source": [
        "import numpy as np\n",
        "\n",
        "# 수치미분 함수\n",
        "\n",
        "def derivative(f, var):    \n",
        "    \n",
        "    if var.ndim == 1:  # vector\n",
        "        \n",
        "        temp_var = var\n",
        "        \n",
        "        delta = 1e-5\n",
        "        diff_val = np.zeros(var.shape)\n",
        "        \n",
        "        for index in range(len(var)):\n",
        "            \n",
        "            target_var = float(temp_var[index])\n",
        "            \n",
        "            temp_var[index] = target_var + delta            \n",
        "            \n",
        "            func_val_plust_delta = f(temp_var)   # x+delta 에 대한 함수 값 계산\n",
        "        \n",
        "            temp_var[index] = target_var - delta  \n",
        "            \n",
        "            func_val_minus_delta = f(temp_var) # x-delta 에 대한 함수 값 계산\n",
        "            \n",
        "            diff_val[index] = ( func_val_plust_delta - func_val_minus_delta ) / (2*delta)\n",
        "            \n",
        "            temp_var[index] = target_var\n",
        "            \n",
        "        return diff_val\n",
        "    \n",
        "        \n",
        "    elif var.ndim == 2:  # matrix\n",
        "        \n",
        "        temp_var = var\n",
        "        \n",
        "        delta = 1e-5\n",
        "        diff_val = np.zeros(var.shape)\n",
        "    \n",
        "        rows = var.shape[0]\n",
        "        columns = var.shape[1]\n",
        "    \n",
        "        for row in range(rows):\n",
        "        \n",
        "            for column in range(columns):\n",
        "            \n",
        "                target_var = float(temp_var[row,column])\n",
        "            \n",
        "                temp_var[row,column] = target_var + delta            \n",
        "                \n",
        "                func_val_plus_delta = f(temp_var)   # x+delta 에 대한 함수 값 계산\n",
        "        \n",
        "                temp_var[row,column] = target_var - delta            \n",
        "                \n",
        "                func_val_minus_delta = f(temp_var)   # x-delta 에 대한 함수 값 계산\n",
        "            \n",
        "                diff_val[row,column] = ( func_val_plus_delta - func_val_minus_delta ) / (2*delta)\n",
        "                \n",
        "                temp_var[row,column] = target_var\n",
        "                \n",
        "        return diff_val\n",
        "\n",
        "# sigmoid 함수\n",
        "\n",
        "def sigmoid(x):\n",
        "    return 1 / (1+np.exp(-x))"
      ]
    },
    {
      "cell_type": "code",
      "execution_count": 2,
      "metadata": {
        "id": "6A3EjKMt8qcr"
      },
      "outputs": [],
      "source": [
        "class LogicGate:\n",
        "        \n",
        "    def __init__(self, gate_name, xdata, tdata):\n",
        "        \n",
        "        self.name = gate_name\n",
        "        \n",
        "        # 입력 데이터, 정답 데이터 초기화\n",
        "        self.xdata = xdata.reshape(4,2)  # 4개의 입력데이터 x1, x2 에 대하여 batch 처리 행렬\n",
        "        self.tdata = tdata.reshape(4,1)  # 4개의 입력데이터 x1, x2 에 대한 각각의 계산 값 행렬\n",
        "        \n",
        "        # 2층 hidden layer unit : 6개 가정,  가중치 W2, 바이어스 b2 초기화\n",
        "        self.W2 = np.random.rand(2,6)  # weight, 2 X 6 matrix\n",
        "        self.b2 = np.random.rand(6)\n",
        "        \n",
        "        # 3층 output layer unit : 1 개 , 가중치 W3, 바이어스 b3 초기화\n",
        "        self.W3 = np.random.rand(6,1)\n",
        "        self.b3 = np.random.rand(1)\n",
        "                        \n",
        "        # 학습률 learning rate 초기화\n",
        "        self.learning_rate = 1e-2\n",
        "    \n",
        "        print(self.name + \" object is created\")\n",
        "            \n",
        "    def feed_forward(self):        # feed forward 를 통하여 손실함수(cross-entropy) 값 계산\n",
        "        \n",
        "        delta = 1e-7    # log 무한대 발산 방지\n",
        "    \n",
        "        z2 = np.dot(self.xdata, self.W2) + self.b2  # 은닉층의 선형회귀 값\n",
        "        a2 = sigmoid(z2)                                  # 은닉층의 출력\n",
        "        \n",
        "        z3 = np.dot(a2, self.W3) + self.b3            # 출력층의 선형회귀 값\n",
        "        y = a3 = sigmoid(z3)                              # 출력층의 출력\n",
        "    \n",
        "        # cross-entropy \n",
        "        return  -np.sum( self.tdata*np.log(y + delta) + (1-self.tdata)*np.log((1 - y)+delta ) )    \n",
        "    \n",
        "    def loss_val(self):          # 외부 출력을 위한 손실함수(cross-entropy) 값 계산 \n",
        "        \n",
        "        delta = 1e-7    # log 무한대 발산 방지\n",
        "    \n",
        "        z2 = np.dot(self.xdata, self.W2) + self.b2  # 은닉층의 선형회귀 값\n",
        "        a2 = sigmoid(z2)                                  # 은닉층의 출력\n",
        "        \n",
        "        z3 = np.dot(a2, self.W3) + self.b3            # 출력층의 선형회귀 값\n",
        "        y = a3 = sigmoid(z3)                              # 출력층의 출력\n",
        "    \n",
        "        # cross-entropy \n",
        "        return  -np.sum( self.tdata*np.log(y + delta) + (1-self.tdata)*np.log((1 - y)+delta ) )    \n",
        "    \n",
        "    \n",
        "    # 수치미분을 이용하여 손실함수가 최소가 될때 까지 학습하는 함수\n",
        "    def train(self):\n",
        "        \n",
        "        f = lambda x : self.feed_forward()\n",
        "        \n",
        "        print(\"Initial loss value = \", self.loss_val())\n",
        "        \n",
        "        for step in  range(20001):\n",
        "            \n",
        "            self.W2 -= self.learning_rate * derivative(f, self.W2)\n",
        "    \n",
        "            self.b2 -= self.learning_rate * derivative(f, self.b2)\n",
        "        \n",
        "            self.W3 -= self.learning_rate * derivative(f, self.W3)\n",
        "    \n",
        "            self.b3 -= self.learning_rate * derivative(f, self.b3)\n",
        "    \n",
        "            if (step % 1000 == 0):\n",
        "                print(\"step = \", step, \"  , loss value = \", self.loss_val())\n",
        "                \n",
        "    \n",
        "    # query, 즉 미래 값 예측 함수\n",
        "    def predict(self, input_data):\n",
        "        \n",
        "        z2 = np.dot(input_data, self.W2) + self.b2         # 은닉층의 선형회귀 값\n",
        "        a2 = sigmoid(z2)                                  # 은닉층의 출력\n",
        "        \n",
        "        z3 = np.dot(a2, self.W3) + self.b3            # 출력층의 선형회귀 값\n",
        "        y = a3 = sigmoid(z3)                              # 출력층의 출력\n",
        "    \n",
        "        if y > 0.5:\n",
        "            result = 1  # True\n",
        "        else:\n",
        "            result = 0  # False\n",
        "    \n",
        "        return y, result"
      ]
    },
    {
      "cell_type": "code",
      "execution_count": 3,
      "metadata": {
        "colab": {
          "base_uri": "https://localhost:8080/"
        },
        "id": "akYhgj1V8qcs",
        "outputId": "1139ec6c-379e-47fd-f9e8-ab81eedf24df"
      },
      "outputs": [
        {
          "output_type": "stream",
          "name": "stdout",
          "text": [
            "XOR object is created\n",
            "Initial loss value =  4.275082620451848\n",
            "step =  0   , loss value =  4.183648386179679\n",
            "step =  1000   , loss value =  2.750852663020658\n",
            "step =  2000   , loss value =  2.7201060385016547\n",
            "step =  3000   , loss value =  2.650982228116407\n",
            "step =  4000   , loss value =  2.5035264125315697\n",
            "step =  5000   , loss value =  2.253310920490144\n",
            "step =  6000   , loss value =  1.9051260826171688\n",
            "step =  7000   , loss value =  1.4552285683254023\n",
            "step =  8000   , loss value =  1.0086887639859774\n",
            "step =  9000   , loss value =  0.6891821429291862\n",
            "step =  10000   , loss value =  0.4919928538553672\n",
            "step =  11000   , loss value =  0.37063765347244493\n",
            "step =  12000   , loss value =  0.29232020805148357\n",
            "step =  13000   , loss value =  0.2389831340477126\n",
            "step =  14000   , loss value =  0.20088301812365544\n",
            "step =  15000   , loss value =  0.17256297500029683\n",
            "step =  16000   , loss value =  0.15081305664804628\n",
            "step =  17000   , loss value =  0.13365284435637745\n",
            "step =  18000   , loss value =  0.11980713815885016\n",
            "step =  19000   , loss value =  0.10842359370138202\n",
            "step =  20000   , loss value =  0.09891374741405254\n"
          ]
        }
      ],
      "source": [
        "# XOR Gate 객체 생성\n",
        "\n",
        "xdata = np.array([ [0, 0], [0, 1], [1, 0], [1, 1] ])\n",
        "tdata = np.array([0, 1, 1, 0])\n",
        "\n",
        "\n",
        "xor_obj = LogicGate(\"XOR\", xdata, tdata)\n",
        "\n",
        "xor_obj.train()"
      ]
    },
    {
      "cell_type": "code",
      "execution_count": 4,
      "metadata": {
        "colab": {
          "base_uri": "https://localhost:8080/"
        },
        "id": "IPpYH5gg8qcs",
        "outputId": "508fca6a-9625-45ff-abe6-ac11f87d7914"
      },
      "outputs": [
        {
          "output_type": "stream",
          "name": "stdout",
          "text": [
            "[0 0]  =  0\n",
            "[0 1]  =  1\n",
            "[1 0]  =  1\n",
            "[1 1]  =  0\n"
          ]
        }
      ],
      "source": [
        "test_data = np.array([ [0, 0], [0, 1], [1, 0], [1, 1] ])\n",
        "\n",
        "for data in test_data:\n",
        "    (sigmoid_val, logical_val) = xor_obj.predict(data)\n",
        "    print(data, \" = \", logical_val)"
      ]
    },
    {
      "cell_type": "code",
      "execution_count": null,
      "metadata": {
        "collapsed": true,
        "id": "xoL4biAu8qct"
      },
      "outputs": [],
      "source": [
        ""
      ]
    }
  ],
  "metadata": {
    "anaconda-cloud": {},
    "kernelspec": {
      "display_name": "Python 3",
      "language": "python",
      "name": "python3"
    },
    "language_info": {
      "codemirror_mode": {
        "name": "ipython",
        "version": 3
      },
      "file_extension": ".py",
      "mimetype": "text/x-python",
      "name": "python",
      "nbconvert_exporter": "python",
      "pygments_lexer": "ipython3",
      "version": "3.7.3"
    },
    "colab": {
      "name": "CH07_XOR_Deeplearning.ipynb",
      "provenance": [],
      "include_colab_link": true
    }
  },
  "nbformat": 4,
  "nbformat_minor": 0
}