{
  "nbformat": 4,
  "nbformat_minor": 0,
  "metadata": {
    "kernelspec": {
      "display_name": "Python 3",
      "language": "python",
      "name": "python3"
    },
    "language_info": {
      "codemirror_mode": {
        "name": "ipython",
        "version": 3
      },
      "file_extension": ".py",
      "mimetype": "text/x-python",
      "name": "python",
      "nbconvert_exporter": "python",
      "pygments_lexer": "ipython3",
      "version": "3.8.5"
    },
    "colab": {
      "name": "3장_2_서포트 벡터 머신(SVM).ipynb",
      "provenance": [],
      "collapsed_sections": [],
      "include_colab_link": true
    },
    "accelerator": "GPU",
    "gpuClass": "standard"
  },
  "cells": [
    {
      "cell_type": "markdown",
      "metadata": {
        "id": "view-in-github",
        "colab_type": "text"
      },
      "source": [
        "<a href=\"https://colab.research.google.com/github/neutro-jina/study_log/blob/main/%EB%94%A5%EB%9F%AC%EB%8B%9D%ED%85%90%EC%84%9C%ED%94%8C%EB%A1%9C%EA%B5%90%EA%B3%BC%EC%84%9C/%EC%B1%95%ED%84%B03/2_%EC%84%9C%ED%8F%AC%ED%8A%B8_%EB%B2%A1%ED%84%B0_%EB%A8%B8%EC%8B%A0(SVM).ipynb\" target=\"_parent\"><img src=\"https://colab.research.google.com/assets/colab-badge.svg\" alt=\"Open In Colab\"/></a>"
      ]
    },
    {
      "cell_type": "code",
      "source": [
        "#3.1.2 서포트 벡터 머신(SVM)"
      ],
      "metadata": {
        "id": "AJCnJ39mFKbg"
      },
      "execution_count": 5,
      "outputs": []
    },
    {
      "cell_type": "code",
      "source": [
        "from sklearn import svm\n",
        "from sklearn import metrics\n",
        "from sklearn import datasets\n",
        "from sklearn import model_selection\n",
        "\n",
        "import tensorflow as tf\n",
        "import os\n",
        "os.environ['TF_CPP_MIN_LOG_LEVEL'] = '3' #TF_CPP_MIN_LOG_LEVEL이라는 환경 변수를 사용하여 로깅을 제어(0:기본값, 모든 로그 표시, 1:info로그 필터링, 2:error로그 필터링)"
      ],
      "metadata": {
        "id": "ora4cCoTFKdc"
      },
      "execution_count": 6,
      "outputs": []
    },
    {
      "cell_type": "code",
      "source": [
        "iris = datasets.load_iris()\n",
        "x_train, x_test, y_train, y_test = model_selection.train_test_split(iris.data, \n",
        "                                                                    iris.target, \n",
        "                                                                    test_size=0.6, \n",
        "                                                                   random_state=42)"
      ],
      "metadata": {
        "id": "YnL4aTdwFKfP"
      },
      "execution_count": 7,
      "outputs": []
    },
    {
      "cell_type": "code",
      "source": [
        "svm = svm.SVC(kernel='linear', C=1.0, gamma=0.5) \n",
        "#svm은 선형 분류와 비선형 분류를 지원한다. #c값은 오류를 어느 정도 허용할지 정하는 파라미터(클수록 하드마진이고 작을수록 소프트마진) #gamma는 결정 경계를 얼마나 유연하게 가져갈지 지정함. 값이 높으면 훈련 데이터에 의존하여 과적합 초래 가능.\n",
        "svm.fit(x_train, y_train)\n",
        "predictions = svm.predict(x_test)\n",
        "score = metrics.accuracy_score(y_test, predictions)\n",
        "print('정확도: {0:f}'.format(score))"
      ],
      "metadata": {
        "colab": {
          "base_uri": "https://localhost:8080/"
        },
        "id": "q_eZBMtXFKhO",
        "outputId": "972af231-47e2-4637-fd88-df16a7787424"
      },
      "execution_count": 8,
      "outputs": [
        {
          "output_type": "stream",
          "name": "stdout",
          "text": [
            "정확도: 0.988889\n"
          ]
        }
      ]
    },
    {
      "cell_type": "markdown",
      "source": [
        "선형 커널: 선형으로 분류 가능한 데이터에 적용\n",
        "\n",
        "다항식 커널:실제로는 특성을 추가하지 않지만, 다항식 특성을 많이 추가한 것과 같은 결과를 얻을 수 있는 방법이다.\n",
        "\n",
        "\n",
        "가우시안 RBF커널: 다항식 커널의 확장. 입력 벡터를 차원이 무한한 고차원으로 매핑하는 것으로, 모든 차수의 모든 다항식을 고려함"
      ],
      "metadata": {
        "id": "rYl3EEjaH3YW"
      }
    }
  ]
}