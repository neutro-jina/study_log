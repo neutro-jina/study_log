{
  "cells": [
    {
      "cell_type": "markdown",
      "metadata": {
        "id": "view-in-github",
        "colab_type": "text"
      },
      "source": [
        "<a href=\"https://colab.research.google.com/github/neutro-jina/study_log/blob/main/CH09_MNIST_by_back_propagation.ipynb\" target=\"_parent\"><img src=\"https://colab.research.google.com/assets/colab-badge.svg\" alt=\"Open In Colab\"/></a>"
      ]
    },
    {
      "cell_type": "code",
      "execution_count": 1,
      "metadata": {
        "id": "LiyYPWP0dBrM"
      },
      "outputs": [],
      "source": [
        "import numpy as np\n",
        "\n",
        "def sigmoid(x):\n",
        "    return 1 / (1+np.exp(-x))"
      ]
    },
    {
      "cell_type": "code",
      "execution_count": 2,
      "metadata": {
        "id": "v892DtcQdBrO"
      },
      "outputs": [],
      "source": [
        "from datetime import datetime      # datetime.now() 를 이용하여 학습 경과 시간 측정\n",
        "\n",
        "class NeuralNetwork:\n",
        "    \n",
        "    def __init__(self, input_nodes, hidden_nodes, output_nodes, learning_rate):\n",
        "        \n",
        "        self.input_nodes = input_nodes\n",
        "        self.hidden_nodes = hidden_nodes\n",
        "        self.output_nodes = output_nodes\n",
        "        \n",
        "        # 은닉층 가중치  W2 = (784 X 100) Xavier/He 방법으로 self.W2 가중치 초기화\n",
        "        self.W2 = np.random.randn(self.input_nodes, self.hidden_nodes) / np.sqrt(self.input_nodes/2)\n",
        "        self.b2 = np.random.rand(self.hidden_nodes)      \n",
        "        \n",
        "        # 출력층 가중치는 W3 = (100X10)  Xavier/He 방법으로 self.W3 가중치 초기화\n",
        "        self.W3 = np.random.randn(self.hidden_nodes, self.output_nodes) / np.sqrt(self.hidden_nodes/2)\n",
        "        self.b3 = np.random.rand(self.output_nodes)      \n",
        "                        \n",
        "        # 출력층 선형회귀 값 Z3, 출력값 A3 정의 (모두 행렬로 표시)\n",
        "        self.Z3 = np.zeros([1,output_nodes])\n",
        "        self.A3 = np.zeros([1,output_nodes])\n",
        "        \n",
        "        # 은닉층 선형회귀 값 Z2, 출력값 A2 정의 (모두 행렬로 표시)\n",
        "        self.Z2 = np.zeros([1,hidden_nodes])\n",
        "        self.A2 = np.zeros([1,hidden_nodes])\n",
        "        \n",
        "        # 입력층 선형회귀 값 Z1, 출력값 A1 정의 (모두 행렬로 표시)\n",
        "        self.Z1 = np.zeros([1,input_nodes])    \n",
        "        self.A1 = np.zeros([1,input_nodes])       \n",
        "        \n",
        "        # 학습률 learning rate 초기화\n",
        "        self.learning_rate = learning_rate\n",
        "        \n",
        "    def feed_forward(self):  \n",
        "        \n",
        "        delta = 1e-7    # log 무한대 발산 방지\n",
        "        \n",
        "        # 입력층 선형회귀 값 Z1, 출력값 A1 계산\n",
        "        self.Z1 = self.input_data\n",
        "        self.A1 = self.input_data\n",
        "        \n",
        "        # 은닉층 선형회귀 값 Z2, 출력값 A2 계산    \n",
        "        self.Z2 = np.dot(self.A1, self.W2) + self.b2\n",
        "        self.A2 = sigmoid(self.Z2)\n",
        "        \n",
        "        # 출력층 선형회귀 값 Z3, 출력값 A3 계산\n",
        "        self.Z3 = np.dot(self.A2, self.W3) + self.b3\n",
        "        y = self.A3 = sigmoid(self.Z3)\n",
        "        \n",
        "        return  -np.sum( self.target_data*np.log(y + delta) + (1-self.target_data)*np.log((1 - y)+delta ) )    \n",
        "    \n",
        "    def loss_val(self):\n",
        "        \n",
        "        delta = 1e-7    # log 무한대 발산 방지\n",
        "        \n",
        "        # 입력층 선형회귀 값 Z1, 출력값 A1 계산\n",
        "        self.Z1 = self.input_data\n",
        "        self.A1 = self.input_data\n",
        "        \n",
        "        # 은닉층 선형회귀 값 Z2, 출력값 A2 계산    \n",
        "        self.Z2 = np.dot(self.A1, self.W2) + self.b2\n",
        "        self.A2 = sigmoid(self.Z2)\n",
        "        \n",
        "        # 출력층 선형회귀 값 Z3, 출력값 A3 계산\n",
        "        self.Z3 = np.dot(self.A2, self.W3) + self.b3\n",
        "        y = self.A3 = sigmoid(self.Z3)\n",
        "        \n",
        "        return  -np.sum( self.target_data*np.log(y + delta) + (1-self.target_data)*np.log((1 - y)+delta ) )    \n",
        "   \n",
        "    \n",
        "    # 정확도 측정함수 \n",
        "    def accuracy(self, test_input_data, test_target_data):\n",
        "        \n",
        "        matched_list = []\n",
        "        not_matched_list = []\n",
        "        \n",
        "        for index in range(len(test_input_data)):\n",
        "                        \n",
        "            label = int(test_target_data[index])\n",
        "                        \n",
        "            # one-hot encoding을 위한 데이터 정규화 (data normalize)\n",
        "            data = (test_input_data[index] / 255.0 * 0.99) + 0.01\n",
        "                  \n",
        "            # predict 를 위해서 vector 을 matrix 로 변환하여 인수로 넘겨줌\n",
        "            predicted_num = self.predict(np.array(data, ndmin=2)) \n",
        "        \n",
        "            if label == predicted_num:\n",
        "                matched_list.append(index)\n",
        "                \n",
        "            else:\n",
        "                \n",
        "                not_matched_list.append(index)\n",
        "                \n",
        "                \n",
        "        print(\"Current Accuracy = \", (len(matched_list)/(len(test_input_data))) )\n",
        "        \n",
        "        return matched_list, not_matched_list\n",
        "    \n",
        "    \n",
        "    def train(self, input_data, target_data):   # input_data : 784 개, target_data : 10개\n",
        "        \n",
        "        self.target_data = target_data    \n",
        "        self.input_data = input_data\n",
        "        \n",
        "        # 먼저 feed forward 를 통해서 최종 출력값과 이를 바탕으로 현재의 에러 값 계산\n",
        "        loss_val = self.feed_forward()\n",
        "        \n",
        "        # 출력층 loss 인 loss_3 구함\n",
        "        loss_3 = (self.A3-self.target_data) * self.A3 * (1-self.A3)\n",
        "        \n",
        "        # 출력층 가중치 W3, 출력층 바이어스 b3 업데이트\n",
        "        self.W3 = self.W3 - self.learning_rate * np.dot(self.A2.T, loss_3)   \n",
        "        \n",
        "        self.b3 = self.b3 - self.learning_rate * loss_3  \n",
        "        \n",
        "        # 은닉층 loss 인 loss_2 구함        \n",
        "        loss_2 = np.dot(loss_3, self.W3.T) * self.A2 * (1-self.A2)\n",
        "        \n",
        "        # 은닉층 가중치 W2, 은닉층 바이어스 b2 업데이트\n",
        "        self.W2 = self.W2 - self.learning_rate * np.dot(self.A1.T, loss_2)   \n",
        "        \n",
        "        self.b2 = self.b2 - self.learning_rate * loss_2\n",
        "        \n",
        "    def predict(self, input_data):        # input_data 는 행렬로 입력됨 즉, (1, 784) shape 을 가짐        \n",
        "        \n",
        "        Z2 = np.dot(input_data, self.W2) + self.b2\n",
        "        A2 = sigmoid(Z2)\n",
        "        \n",
        "        Z3 = np.dot(A2, self.W3) + self.b3\n",
        "        y = A3 = sigmoid(Z3)\n",
        "        \n",
        "        predicted_num = np.argmax(y)\n",
        "    \n",
        "        return predicted_num"
      ]
    },
    {
      "cell_type": "code",
      "execution_count": 3,
      "metadata": {
        "colab": {
          "base_uri": "https://localhost:8080/"
        },
        "id": "xesHshEadBrQ",
        "outputId": "f536cbad-42f1-448e-d084-c8aca34e5c2f"
      },
      "outputs": [
        {
          "output_type": "stream",
          "name": "stdout",
          "text": [
            "training_data.shape =  (60000, 785)\n",
            "training_data[0,0] =  5.0 , len(training_data[0]) =  785\n"
          ]
        }
      ],
      "source": [
        "# 0~9 숫자 이미지가 784개의 숫자 (28X28) 로 구성되어 있는 training data 읽어옴\n",
        "training_data = np.loadtxt('/content/mnist_train.csv', delimiter=',', dtype=np.float32)\n",
        "\n",
        "print(\"training_data.shape = \", training_data.shape)\n",
        "print(\"training_data[0,0] = \", training_data[0,0], \", len(training_data[0]) = \", len(training_data[0]))"
      ]
    },
    {
      "cell_type": "markdown",
      "metadata": {
        "id": "EMm5Q9dgdBrR"
      },
      "source": [
        "#### 은닉층 노드 100 개 인 경우의 MNIST 오차역전파"
      ]
    },
    {
      "cell_type": "code",
      "execution_count": 4,
      "metadata": {
        "colab": {
          "base_uri": "https://localhost:8080/"
        },
        "id": "n_zSfE5zdBrT",
        "outputId": "d7bf92fb-644b-462a-c754-eda8bbd51750"
      },
      "outputs": [
        {
          "output_type": "stream",
          "name": "stdout",
          "text": [
            "epochs =  0 , step =  0 , current loss_val =  2.694009330559777\n",
            "epochs =  0 , step =  1000 , current loss_val =  0.810892823447121\n",
            "epochs =  0 , step =  2000 , current loss_val =  1.353407949687491\n",
            "epochs =  0 , step =  3000 , current loss_val =  0.9670073175323233\n",
            "epochs =  0 , step =  4000 , current loss_val =  0.9034183920864771\n",
            "epochs =  0 , step =  5000 , current loss_val =  0.7661277077000422\n",
            "epochs =  0 , step =  6000 , current loss_val =  0.8299311223057854\n",
            "epochs =  0 , step =  7000 , current loss_val =  1.0284503692975273\n",
            "epochs =  0 , step =  8000 , current loss_val =  0.9529928416217283\n",
            "epochs =  0 , step =  9000 , current loss_val =  1.0356386860889328\n",
            "epochs =  0 , step =  10000 , current loss_val =  1.0469257428060548\n",
            "epochs =  0 , step =  11000 , current loss_val =  0.9676430427266789\n",
            "epochs =  0 , step =  12000 , current loss_val =  0.9423455104844455\n",
            "epochs =  0 , step =  13000 , current loss_val =  1.0227941265978153\n",
            "epochs =  0 , step =  14000 , current loss_val =  0.9456311072901735\n",
            "epochs =  0 , step =  15000 , current loss_val =  0.9413476733547064\n",
            "epochs =  0 , step =  16000 , current loss_val =  1.019846349220734\n",
            "epochs =  0 , step =  17000 , current loss_val =  1.0935883888367335\n",
            "epochs =  0 , step =  18000 , current loss_val =  1.0470650023317292\n",
            "epochs =  0 , step =  19000 , current loss_val =  0.9763701347474113\n",
            "epochs =  0 , step =  20000 , current loss_val =  1.0168547905037697\n",
            "epochs =  0 , step =  21000 , current loss_val =  1.0515284892163659\n",
            "epochs =  0 , step =  22000 , current loss_val =  1.0212890700352084\n",
            "epochs =  0 , step =  23000 , current loss_val =  1.085274828688514\n",
            "epochs =  0 , step =  24000 , current loss_val =  1.0854286388347456\n",
            "epochs =  0 , step =  25000 , current loss_val =  1.0960810812538762\n",
            "epochs =  0 , step =  26000 , current loss_val =  1.0207060986662948\n",
            "epochs =  0 , step =  27000 , current loss_val =  1.00397488435379\n",
            "epochs =  0 , step =  28000 , current loss_val =  0.9723206383124718\n",
            "epochs =  0 , step =  29000 , current loss_val =  1.015847167316641\n",
            "epochs =  0 , step =  30000 , current loss_val =  1.1344457111005541\n",
            "epochs =  0 , step =  31000 , current loss_val =  8.911308925316602\n",
            "epochs =  0 , step =  32000 , current loss_val =  0.9282788288034441\n",
            "epochs =  0 , step =  33000 , current loss_val =  1.1158054582664678\n",
            "epochs =  0 , step =  34000 , current loss_val =  1.0932526732959158\n",
            "epochs =  0 , step =  35000 , current loss_val =  1.0228218342229867\n",
            "epochs =  0 , step =  36000 , current loss_val =  1.0529897043662209\n",
            "epochs =  0 , step =  37000 , current loss_val =  1.0091657219238992\n",
            "epochs =  0 , step =  38000 , current loss_val =  1.0535200847549382\n",
            "epochs =  0 , step =  39000 , current loss_val =  1.1891399361788522\n",
            "epochs =  0 , step =  40000 , current loss_val =  1.1120088575036373\n",
            "epochs =  0 , step =  41000 , current loss_val =  1.1174366873320625\n",
            "epochs =  0 , step =  42000 , current loss_val =  1.0211316702958575\n",
            "epochs =  0 , step =  43000 , current loss_val =  1.0340326002215932\n",
            "epochs =  0 , step =  44000 , current loss_val =  1.1884620433509752\n",
            "epochs =  0 , step =  45000 , current loss_val =  1.1652955551053181\n",
            "epochs =  0 , step =  46000 , current loss_val =  1.1054556489214702\n",
            "epochs =  0 , step =  47000 , current loss_val =  1.1829509683910913\n",
            "epochs =  0 , step =  48000 , current loss_val =  1.1468215456234134\n",
            "epochs =  0 , step =  49000 , current loss_val =  1.1140060085250965\n",
            "epochs =  0 , step =  50000 , current loss_val =  1.156782520558755\n",
            "epochs =  0 , step =  51000 , current loss_val =  1.1926410798683695\n",
            "epochs =  0 , step =  52000 , current loss_val =  1.0749877227530105\n",
            "epochs =  0 , step =  53000 , current loss_val =  1.145022401184219\n",
            "epochs =  0 , step =  54000 , current loss_val =  1.1963158748702603\n",
            "epochs =  0 , step =  55000 , current loss_val =  0.9812488938079647\n",
            "epochs =  0 , step =  56000 , current loss_val =  1.0048201842499043\n",
            "epochs =  0 , step =  57000 , current loss_val =  1.234457540379378\n",
            "epochs =  0 , step =  58000 , current loss_val =  1.085557104243081\n",
            "epochs =  0 , step =  59000 , current loss_val =  1.2512975638279968\n",
            "\n",
            "elapsed time =  0:00:30.450790\n"
          ]
        }
      ],
      "source": [
        "# hyper-parameter\n",
        "i_nodes = 784\n",
        "h1_nodes = 100     # hidden 1 nodes\n",
        "o_nodes = 10       # output nodes\n",
        "lr = 0.3           # learning rate\n",
        "epochs = 1         # epochs\n",
        "\n",
        "\n",
        "obj = NeuralNetwork(i_nodes, h1_nodes, o_nodes, lr)\n",
        "\n",
        "start_time = datetime.now()\n",
        "\n",
        "for i in range(epochs):\n",
        "    \n",
        "    for step in range(len(training_data)):  # train\n",
        "    \n",
        "        # input_data, target_data normalize        \n",
        "        target_data = np.zeros(o_nodes) + 0.01    \n",
        "        target_data[int(training_data[step, 0])] = 0.99\n",
        "    \n",
        "        input_data = ((training_data[step, 1:] / 255.0) * 0.99) + 0.01\n",
        "    \n",
        "        obj.train( np.array(input_data, ndmin=2), np.array(target_data, ndmin=2) )\n",
        "    \n",
        "        if step % 1000 == 0:\n",
        "            print(\"epochs = \", i, \", step = \", step,  \", current loss_val = \", obj.loss_val())\n",
        "        \n",
        "end_time = datetime.now() \n",
        "print(\"\\nelapsed time = \", end_time - start_time) "
      ]
    },
    {
      "cell_type": "code",
      "execution_count": 5,
      "metadata": {
        "colab": {
          "base_uri": "https://localhost:8080/"
        },
        "id": "__6s42UJdBrT",
        "outputId": "d9331975-de48-46eb-f8ac-0fa91d10bbb8"
      },
      "outputs": [
        {
          "output_type": "stream",
          "name": "stdout",
          "text": [
            "test_data.shape =  (10000, 785)\n",
            "test_data[0,0] =  7.0 , len(test_data[0]) =  785\n",
            "Current Accuracy =  0.9293\n"
          ]
        }
      ],
      "source": [
        "# 0~9 숫자 이미지가 784개의 숫자 (28X28) 로 구성되어 있는 test data 읽어옴\n",
        "test_data = np.loadtxt('/content/mnist_test.csv', delimiter=',', dtype=np.float32)\n",
        "\n",
        "test_input_data = test_data[ : , 1: ]\n",
        "test_target_data = test_data[ : , 0 ]\n",
        "\n",
        "print(\"test_data.shape = \", test_data.shape)\n",
        "print(\"test_data[0,0] = \", test_data[0,0], \", len(test_data[0]) = \", len(test_data[0]))\n",
        "\n",
        "# measure accuracy\n",
        "(true_list, false_list) = obj.accuracy(test_input_data, test_target_data)   "
      ]
    },
    {
      "cell_type": "code",
      "execution_count": null,
      "metadata": {
        "id": "sqBc_tQLdBrU"
      },
      "outputs": [],
      "source": [
        ""
      ]
    }
  ],
  "metadata": {
    "anaconda-cloud": {},
    "kernelspec": {
      "display_name": "Python 3",
      "language": "python",
      "name": "python3"
    },
    "language_info": {
      "codemirror_mode": {
        "name": "ipython",
        "version": 3
      },
      "file_extension": ".py",
      "mimetype": "text/x-python",
      "name": "python",
      "nbconvert_exporter": "python",
      "pygments_lexer": "ipython3",
      "version": "3.7.3"
    },
    "colab": {
      "name": "CH09_MNIST_by_back_propagation.ipynb",
      "provenance": [],
      "include_colab_link": true
    },
    "accelerator": "GPU",
    "gpuClass": "standard"
  },
  "nbformat": 4,
  "nbformat_minor": 0
}
