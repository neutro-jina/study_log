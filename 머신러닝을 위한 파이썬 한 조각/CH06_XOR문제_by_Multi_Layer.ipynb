{
  "cells": [
    {
      "cell_type": "markdown",
      "metadata": {
        "id": "view-in-github",
        "colab_type": "text"
      },
      "source": [
        "<a href=\"https://colab.research.google.com/github/neutro-jina/study_log/blob/main/%EB%A8%B8%EC%8B%A0%EB%9F%AC%EB%8B%9D%EC%9D%84%20%EC%9C%84%ED%95%9C%20%ED%8C%8C%EC%9D%B4%EC%8D%AC%20%ED%95%9C%20%EC%A1%B0%EA%B0%81/CH06_XOR%EB%AC%B8%EC%A0%9C.ipynb\" target=\"_parent\"><img src=\"https://colab.research.google.com/assets/colab-badge.svg\" alt=\"Open In Colab\"/></a>"
      ]
    },
    {
      "cell_type": "code",
      "execution_count": 5,
      "metadata": {
        "id": "rYEREhsLdo-U"
      },
      "outputs": [],
      "source": [
        "import numpy as np\n",
        "\n",
        "# sigmoid 함수\n",
        "def sigmoid(x):\n",
        "    return 1 / (1+np.exp(-x))\n",
        "\n",
        "\n",
        "# 수치미분 함수\n",
        "def derivative(f, var):    \n",
        "    \n",
        "    if var.ndim == 1:  # vector\n",
        "        \n",
        "        temp_var = var\n",
        "        \n",
        "        delta = 1e-5\n",
        "        diff_val = np.zeros(var.shape)\n",
        "        \n",
        "        for index in range(len(var)):\n",
        "            \n",
        "            target_var = float(temp_var[index])\n",
        "            \n",
        "            temp_var[index] = target_var + delta            \n",
        "            \n",
        "            func_val_plust_delta = f(temp_var)   # x+delta 에 대한 함수 값 계산\n",
        "        \n",
        "            temp_var[index] = target_var - delta  \n",
        "            \n",
        "            func_val_minus_delta = f(temp_var) # x-delta 에 대한 함수 값 계산\n",
        "            \n",
        "            diff_val[index] = ( func_val_plust_delta - func_val_minus_delta ) / (2*delta)\n",
        "            \n",
        "            temp_var[index] = target_var\n",
        "            \n",
        "        return diff_val\n",
        "    \n",
        "        \n",
        "    elif var.ndim == 2:  # matrix\n",
        "        \n",
        "        temp_var = var\n",
        "        \n",
        "        delta = 1e-5\n",
        "        diff_val = np.zeros(var.shape)\n",
        "    \n",
        "        rows = var.shape[0]\n",
        "        columns = var.shape[1]\n",
        "    \n",
        "        for row in range(rows):\n",
        "        \n",
        "            for column in range(columns):\n",
        "            \n",
        "                target_var = float(temp_var[row,column])\n",
        "            \n",
        "                temp_var[row,column] = target_var + delta            \n",
        "                \n",
        "                func_val_plus_delta = f(temp_var)   # x+delta 에 대한 함수 값 계산\n",
        "        \n",
        "                temp_var[row,column] = target_var - delta            \n",
        "                \n",
        "                func_val_minus_delta = f(temp_var)   # x-delta 에 대한 함수 값 계산\n",
        "            \n",
        "                diff_val[row,column] = ( func_val_plus_delta - func_val_minus_delta ) / (2*delta)\n",
        "                \n",
        "                temp_var[row,column] = target_var\n",
        "                \n",
        "        return diff_val"
      ]
    },
    {
      "cell_type": "code",
      "execution_count": 6,
      "metadata": {
        "id": "oNmNw53Pdo-X"
      },
      "outputs": [],
      "source": [
        "# LogicGate Class (논리게이트 클래스 정의)\n",
        "\n",
        "class LogicGate:\n",
        "    \n",
        "    def __init__(self, gate_name, xdata, tdata):  \n",
        "        #생성자(__init__)에서는 입력 데이터와 정답 데이터, 가중치, 바이어스 그리고 학습률 등을 초기화 해준다.\n",
        "        self.name = gate_name\n",
        "        \n",
        "        # 입력 데이터, 정답 데이터 초기화\n",
        "        self.xdata = xdata.reshape(4,2)\n",
        "        self.tdata = tdata.reshape(4,1)\n",
        "        \n",
        "        # 가중치 W, 바이어스 b 초기화\n",
        "        self.W = np.random.rand(2,1)  \n",
        "        self.b = np.random.rand(1)\n",
        "                        \n",
        "        # 학습률 learning rate 초기화\n",
        "        self.learning_rate = 1e-2\n",
        "        \n",
        "    # 손실함수\n",
        "    def loss_func(self):\n",
        "        \n",
        "        delta = 1e-7    # log 무한대 발산 방지\n",
        "    \n",
        "        z = np.dot(self.xdata, self.W) + self.b\n",
        "        y = sigmoid(z)\n",
        "    \n",
        "        # cross-entropy \n",
        "        return  -np.sum( self.tdata*np.log(y + delta) + (1-self.tdata)*np.log((1 - y)+delta ) )      \n",
        "    \n",
        "    # 손실 값 계산\n",
        "    def loss_val(self):\n",
        "        \n",
        "        delta = 1e-7    # log 무한대 발산 방지\n",
        "    \n",
        "        z = np.dot(self.xdata, self.W) + self.b\n",
        "        y = sigmoid(z)\n",
        "    \n",
        "        # cross-entropy \n",
        "        return  -np.sum( self.tdata*np.log(y + delta) + (1-self.tdata)*np.log((1 - y)+delta ) )\n",
        "\n",
        "    # 수치미분을 이용하여 손실함수가 최소가 될때 까지 학습하는 함수\n",
        "    def train(self):\n",
        "        \n",
        "        f = lambda x : self.loss_func()\n",
        "        \n",
        "        print(\"Initial loss value = \", self.loss_val())\n",
        "        \n",
        "        for step in  range(8001):\n",
        "            \n",
        "            self.W -= self.learning_rate * derivative(f, self.W)\n",
        "    \n",
        "            self.b -= self.learning_rate * derivative(f, self.b)\n",
        "    \n",
        "            if (step % 1000 == 0):\n",
        "                print(\"step = \", step, \"loss value = \", self.loss_val())\n",
        "                \n",
        "                \n",
        "    # 미래 값 예측 함수\n",
        "    def predict(self, input_data):\n",
        "        \n",
        "        z = np.dot(input_data, self.W) + self.b\n",
        "        y = sigmoid(z)\n",
        "    \n",
        "        if y > 0.5:\n",
        "            result = 1  # True\n",
        "        else:\n",
        "            result = 0  # False\n",
        "    \n",
        "        return y, result"
      ]
    },
    {
      "cell_type": "code",
      "execution_count": 7,
      "metadata": {
        "colab": {
          "base_uri": "https://localhost:8080/"
        },
        "id": "dS29UL6zdo-Y",
        "outputId": "82af19e4-17bb-4d5f-d083-5aef02b7aca6"
      },
      "outputs": [
        {
          "output_type": "stream",
          "name": "stdout",
          "text": [
            "Initial loss value =  4.245897735101845\n",
            "step =  0 loss value =  4.191768776101891\n",
            "step =  1000 loss value =  0.9808857957924251\n",
            "step =  2000 loss value =  0.649211771920967\n",
            "step =  3000 loss value =  0.4852010415255776\n",
            "step =  4000 loss value =  0.3862896097013882\n",
            "step =  5000 loss value =  0.3201407563823834\n",
            "step =  6000 loss value =  0.27287657962657597\n",
            "step =  7000 loss value =  0.23748554920357617\n",
            "step =  8000 loss value =  0.21003496163967728\n"
          ]
        }
      ],
      "source": [
        "xdata = np.array([ [0, 0], [0, 1], [1, 0], [1, 1] ])\n",
        "tdata = np.array([0, 0, 0, 1])\n",
        "\n",
        "AND_obj = LogicGate(\"AND_GATE\", xdata, tdata)\n",
        "\n",
        "AND_obj.train()"
      ]
    },
    {
      "cell_type": "code",
      "execution_count": 8,
      "metadata": {
        "colab": {
          "base_uri": "https://localhost:8080/"
        },
        "id": "359S-5RGdo-Z",
        "outputId": "e7978340-5fd1-4e52-f52f-3ffba75c857c"
      },
      "outputs": [
        {
          "output_type": "stream",
          "name": "stdout",
          "text": [
            "AND_GATE \n",
            "\n",
            "[0 0]  =  0\n",
            "[0 1]  =  0\n",
            "[1 0]  =  0\n",
            "[1 1]  =  1\n"
          ]
        }
      ],
      "source": [
        "# AND Gate prediction\n",
        "print(AND_obj.name, \"\\n\")\n",
        "\n",
        "test_data = np.array([ [0, 0], [0, 1], [1, 0], [1, 1] ])\n",
        "\n",
        "for input_data in test_data:\n",
        "    (sigmoid_val, logical_val) = AND_obj.predict(input_data) \n",
        "    print(input_data, \" = \", logical_val)  "
      ]
    },
    {
      "cell_type": "code",
      "execution_count": 9,
      "metadata": {
        "colab": {
          "base_uri": "https://localhost:8080/"
        },
        "id": "mTlquFcCdo-Z",
        "outputId": "ec1ba84c-c3ff-4f80-f2c8-255df6b4471f"
      },
      "outputs": [
        {
          "output_type": "stream",
          "name": "stdout",
          "text": [
            "Initial loss value =  1.9391670357783466\n",
            "step =  0 loss value =  1.9290130509709145\n",
            "step =  1000 loss value =  0.6761407356642997\n",
            "step =  2000 loss value =  0.4142745585121421\n",
            "step =  3000 loss value =  0.29461991309786784\n",
            "step =  4000 loss value =  0.2271114104612265\n",
            "step =  5000 loss value =  0.1841294031416293\n",
            "step =  6000 loss value =  0.1545104571076824\n",
            "step =  7000 loss value =  0.13292784279968095\n",
            "step =  8000 loss value =  0.11653481749001862\n"
          ]
        }
      ],
      "source": [
        "xdata = np.array([ [0, 0], [0, 1], [1, 0], [1, 1] ])\n",
        "tdata = np.array([0, 1, 1, 1])\n",
        "\n",
        "OR_obj = LogicGate(\"OR_GATE\", xdata, tdata)\n",
        "\n",
        "OR_obj.train() "
      ]
    },
    {
      "cell_type": "code",
      "execution_count": 10,
      "metadata": {
        "colab": {
          "base_uri": "https://localhost:8080/"
        },
        "id": "ge9yygjldo-a",
        "outputId": "d71a8854-7fde-48cd-c18d-1b90e20cf2a0"
      },
      "outputs": [
        {
          "output_type": "stream",
          "name": "stdout",
          "text": [
            "OR_GATE \n",
            "\n",
            "[0 0]  =  0\n",
            "[0 1]  =  1\n",
            "[1 0]  =  1\n",
            "[1 1]  =  1\n"
          ]
        }
      ],
      "source": [
        "# OR Gate prediction\n",
        "print(OR_obj.name, \"\\n\")\n",
        "\n",
        "test_data = np.array([ [0, 0], [0, 1], [1, 0], [1, 1] ])\n",
        "\n",
        "for input_data in test_data:\n",
        "    (sigmoid_val, logical_val) = OR_obj.predict(input_data) \n",
        "    print(input_data, \" = \", logical_val)  "
      ]
    },
    {
      "cell_type": "code",
      "execution_count": 11,
      "metadata": {
        "colab": {
          "base_uri": "https://localhost:8080/"
        },
        "id": "plD274SEdo-a",
        "outputId": "b2b34c86-02bb-4512-d30d-af869b74afa5"
      },
      "outputs": [
        {
          "output_type": "stream",
          "name": "stdout",
          "text": [
            "Initial loss value =  2.831318266849175\n",
            "step =  0 loss value =  2.8247301024260016\n",
            "step =  1000 loss value =  1.0521322403865812\n",
            "step =  2000 loss value =  0.6786250218741112\n",
            "step =  3000 loss value =  0.5016101890765621\n",
            "step =  4000 loss value =  0.39677083020647486\n",
            "step =  5000 loss value =  0.3273996920140586\n",
            "step =  6000 loss value =  0.278189166637957\n",
            "step =  7000 loss value =  0.24153442580517476\n",
            "step =  8000 loss value =  0.21321838032573787\n"
          ]
        }
      ],
      "source": [
        "xdata = np.array([ [0, 0], [0, 1], [1, 0], [1, 1] ])\n",
        "tdata = np.array([1, 1, 1, 0])\n",
        "\n",
        "NAND_obj = LogicGate(\"NAND_GATE\", xdata, tdata)\n",
        "\n",
        "NAND_obj.train()"
      ]
    },
    {
      "cell_type": "code",
      "execution_count": 12,
      "metadata": {
        "colab": {
          "base_uri": "https://localhost:8080/"
        },
        "id": "99_D98cIdo-b",
        "outputId": "9d471ade-cdc0-4d36-d472-ed609447106b"
      },
      "outputs": [
        {
          "output_type": "stream",
          "name": "stdout",
          "text": [
            "NAND_GATE \n",
            "\n",
            "[0 0]  =  1\n",
            "[0 1]  =  1\n",
            "[1 0]  =  1\n",
            "[1 1]  =  0\n"
          ]
        }
      ],
      "source": [
        "# NAND Gate prediction\n",
        "print(NAND_obj.name, \"\\n\")\n",
        "\n",
        "test_data = np.array([ [0, 0], [0, 1], [1, 0], [1, 1] ])\n",
        "\n",
        "for input_data in test_data:\n",
        "    (sigmoid_val, logical_val) = NAND_obj.predict(input_data) \n",
        "    print(input_data, \" = \", logical_val)  "
      ]
    },
    {
      "cell_type": "code",
      "execution_count": 13,
      "metadata": {
        "scrolled": true,
        "colab": {
          "base_uri": "https://localhost:8080/"
        },
        "id": "YAoM26m-do-b",
        "outputId": "421f90c3-d236-4dab-a580-4f6d75122fb7"
      },
      "outputs": [
        {
          "output_type": "stream",
          "name": "stdout",
          "text": [
            "Initial loss value =  3.061228725342344\n",
            "step =  0 loss value =  3.053821670970647\n",
            "step =  1000 loss value =  2.773782092048977\n",
            "step =  2000 loss value =  2.7726386556202693\n",
            "step =  3000 loss value =  2.7725900894426765\n",
            "step =  4000 loss value =  2.77258801490318\n",
            "step =  5000 loss value =  2.772587926202463\n",
            "step =  6000 loss value =  2.7725879224093193\n",
            "step =  7000 loss value =  2.7725879222471077\n",
            "step =  8000 loss value =  2.772587922240171\n"
          ]
        }
      ],
      "source": [
        "xdata = np.array([ [0, 0], [0, 1], [1, 0], [1, 1] ])\n",
        "tdata = np.array([0, 1, 1, 0])\n",
        "\n",
        "\n",
        "XOR_obj = LogicGate(\"XOR_GATE\", xdata, tdata)\n",
        "\n",
        "# XOR Gate 를 보면, 손실함수 값이 2.7 근처에서 더 이상 감소하지 않는것을 볼수 있음\n",
        "XOR_obj.train()"
      ]
    },
    {
      "cell_type": "code",
      "execution_count": 14,
      "metadata": {
        "colab": {
          "base_uri": "https://localhost:8080/"
        },
        "id": "kQGpzBVido-c",
        "outputId": "992dc6cb-57cf-4562-bcd1-60a7501cc0e9"
      },
      "outputs": [
        {
          "output_type": "stream",
          "name": "stdout",
          "text": [
            "XOR_GATE \n",
            "\n",
            "[0 0]  =  0\n",
            "[0 1]  =  0\n",
            "[1 0]  =  0\n",
            "[1 1]  =  1\n"
          ]
        }
      ],
      "source": [
        "# XOR Gate prediction => 예측이 되지 않음\n",
        "print(XOR_obj.name, \"\\n\")\n",
        "\n",
        "test_data = np.array([ [0, 0], [0, 1], [1, 0], [1, 1] ])\n",
        "\n",
        "for input_data in test_data:\n",
        "    (sigmoid_val, logical_val) = XOR_obj.predict(input_data) \n",
        "    print(input_data, \" = \", logical_val)  "
      ]
    },
    {
      "cell_type": "code",
      "execution_count": 15,
      "metadata": {
        "colab": {
          "base_uri": "https://localhost:8080/"
        },
        "id": "XrAEpeZVdo-c",
        "outputId": "16142555-63c3-4848-ce96-8d22b8da2b54"
      },
      "outputs": [
        {
          "output_type": "stream",
          "name": "stdout",
          "text": [
            "4\n",
            "[0 0]  =  0\n",
            "[0 1]  =  1\n",
            "[1 0]  =  1\n",
            "[1 1]  =  0\n"
          ]
        }
      ],
      "source": [
        "# XOR 을 NAND + OR => AND 조합으로 계산함\n",
        "input_data = np.array([ [0, 0], [0, 1], [1, 0], [1, 1] ])\n",
        "print(len(input_data))\n",
        "\n",
        "s1 = []    # NAND 출력\n",
        "s2 = []    # OR 출력\n",
        "\n",
        "new_input_data = []  # AND 입력\n",
        "final_output = []    # AND 출력\n",
        "\n",
        "for index in range(len(input_data)):\n",
        "    \n",
        "    s1 = NAND_obj.predict(input_data[index])  # NAND 출력\n",
        "    s2 = OR_obj.predict(input_data[index])    # OR 출력\n",
        "    \n",
        "    new_input_data.append(s1[-1])    # AND 입력\n",
        "    new_input_data.append(s2[-1])    # AND 입력\n",
        "    \n",
        "    (sigmoid_val, logical_val) = AND_obj.predict(np.array(new_input_data))\n",
        "    \n",
        "    final_output.append(logical_val)    # AND 출력, 즉 XOR 출력    \n",
        "    new_input_data = []    # AND 입력 초기화\n",
        "\n",
        "\n",
        "for index in range(len(input_data)):    \n",
        "    print(input_data[index], \" = \", final_output[index])"
      ]
    },
    {
      "cell_type": "code",
      "source": [
        ""
      ],
      "metadata": {
        "id": "dxIlrV4Tkfh6"
      },
      "execution_count": 15,
      "outputs": []
    },
    {
      "cell_type": "code",
      "source": [
        ""
      ],
      "metadata": {
        "id": "Rqg8frOhkfkN"
      },
      "execution_count": 15,
      "outputs": []
    },
    {
      "cell_type": "code",
      "execution_count": 15,
      "metadata": {
        "collapsed": true,
        "id": "NdnnzNcXdo-c"
      },
      "outputs": [],
      "source": [
        ""
      ]
    }
  ],
  "metadata": {
    "anaconda-cloud": {},
    "kernelspec": {
      "display_name": "Python 3",
      "language": "python",
      "name": "python3"
    },
    "language_info": {
      "codemirror_mode": {
        "name": "ipython",
        "version": 3
      },
      "file_extension": ".py",
      "mimetype": "text/x-python",
      "name": "python",
      "nbconvert_exporter": "python",
      "pygments_lexer": "ipython3",
      "version": "3.7.3"
    },
    "colab": {
      "name": "CH06_XOR문제.ipynb",
      "provenance": [],
      "include_colab_link": true
    },
    "accelerator": "GPU",
    "gpuClass": "standard"
  },
  "nbformat": 4,
  "nbformat_minor": 0
}
